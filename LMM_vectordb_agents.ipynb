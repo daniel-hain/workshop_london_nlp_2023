{
  "nbformat": 4,
  "nbformat_minor": 0,
  "metadata": {
    "colab": {
      "private_outputs": true,
      "provenance": [],
      "authorship_tag": "ABX9TyPOtRQErHVUA2gixyWtzN0M",
      "include_colab_link": true
    },
    "kernelspec": {
      "name": "python3",
      "display_name": "Python 3"
    },
    "language_info": {
      "name": "python"
    }
  },
  "cells": [
    {
      "cell_type": "markdown",
      "metadata": {
        "id": "view-in-github",
        "colab_type": "text"
      },
      "source": [
        "<a href=\"https://colab.research.google.com/github/daniel-hain/workshop_london_nlp_2023/blob/main/LMM_vectordb_agents.ipynb\" target=\"_parent\"><img src=\"https://colab.research.google.com/assets/colab-badge.svg\" alt=\"Open In Colab\"/></a>"
      ]
    },
    {
      "cell_type": "markdown",
      "source": [
        "# Setup"
      ],
      "metadata": {
        "id": "Ztb3UyYZVVfu"
      }
    },
    {
      "cell_type": "code",
      "source": [
        "# Installing dependencies needed for this notebook\n",
        "!pip install langchain openai sentence_transformers unstructured chromadb -q"
      ],
      "metadata": {
        "id": "_IyWpsdEoPzE"
      },
      "execution_count": null,
      "outputs": []
    },
    {
      "cell_type": "code",
      "source": [
        "# Mount google drive\n",
        "from google.colab import drive\n",
        "drive.mount('/content/gdrive/', force_remount=True)"
      ],
      "metadata": {
        "id": "fCMEPmhe5a0B"
      },
      "execution_count": null,
      "outputs": []
    },
    {
      "cell_type": "code",
      "source": [
        "# Set the environment variable for the OpenAI API Key\n",
        "import os\n",
        "str = open('/content/gdrive/MyDrive/00_projects/apy_keys.txt', 'r').read()\n",
        "os.environ[\"OPENAI_API_KEY\"] = str"
      ],
      "metadata": {
        "id": "oZbh0Fbn7J0u"
      },
      "execution_count": null,
      "outputs": []
    },
    {
      "cell_type": "markdown",
      "source": [
        "# Dataset"
      ],
      "metadata": {
        "id": "0VjseZ9ubBCm"
      }
    },
    {
      "cell_type": "code",
      "source": [
        "import pandas as pd"
      ],
      "metadata": {
        "id": "9PlDELeH0Jl-"
      },
      "execution_count": null,
      "outputs": []
    },
    {
      "cell_type": "code",
      "source": [
        "path_data = '/content/gdrive/MyDrive/00_projects/project_2023_llm_tryout/data/data_ai_issues_policy.csv'\n",
        "df = pd.read_csv(path_data)"
      ],
      "metadata": {
        "id": "wDJ4Ahj7Wm6Y"
      },
      "execution_count": null,
      "outputs": []
    },
    {
      "cell_type": "code",
      "source": [
        "df = df.query(\"source == 'Parliament'\")"
      ],
      "metadata": {
        "id": "ig0rzp0wsfpZ"
      },
      "execution_count": null,
      "outputs": []
    },
    {
      "cell_type": "code",
      "source": [
        "df.head(5)"
      ],
      "metadata": {
        "id": "-NvkVF8NcqLh"
      },
      "execution_count": null,
      "outputs": []
    },
    {
      "cell_type": "markdown",
      "source": [
        "# Chroma"
      ],
      "metadata": {
        "id": "dI8N3MXWjabG"
      }
    },
    {
      "cell_type": "markdown",
      "source": [
        "## Embeddings"
      ],
      "metadata": {
        "id": "jHw7QZqK7axU"
      }
    },
    {
      "cell_type": "code",
      "source": [
        "# Chroma\n",
        "import chromadb\n",
        "from langchain.vectorstores import Chroma\n",
        "from langchain.document_loaders import TextLoader\n",
        "\n",
        "# embeddings\n",
        "from langchain.embeddings.sentence_transformer import SentenceTransformerEmbeddings\n",
        "\n",
        "# Load documents and split text\n",
        "from langchain.document_loaders import DataFrameLoader #-> types of data loader\n",
        "from langchain.text_splitter import RecursiveCharacterTextSplitter, CharacterTextSplitter  #-> to splits data to chunks"
      ],
      "metadata": {
        "id": "d_C6VlvFXoMJ"
      },
      "execution_count": null,
      "outputs": []
    },
    {
      "cell_type": "code",
      "source": [
        "# Dataloader\n",
        "loader = DataFrameLoader(df, page_content_column=\"text\")\n",
        "\n",
        "# Define embeddings\n",
        "embeddings = SentenceTransformerEmbeddings(model_name=\"all-MiniLM-L6-v2\")\n",
        "\n",
        "# Split the text\n",
        "text_splitter = RecursiveCharacterTextSplitter(\n",
        "    chunk_size = 1000,\n",
        "    chunk_overlap  = 100,\n",
        "    length_function = len,\n",
        ")\n",
        "texts = text_splitter.split_documents(loader.load())"
      ],
      "metadata": {
        "id": "L6OwEq3Vn_QW"
      },
      "execution_count": null,
      "outputs": []
    },
    {
      "cell_type": "code",
      "source": [
        "# Path to save Chroma\n",
        "path_chroma = '/content/gdrive/MyDrive/00_projects/project_2023_llm_tryout/data/chroma_db'"
      ],
      "metadata": {
        "id": "MKneJ2TwBCy7"
      },
      "execution_count": null,
      "outputs": []
    },
    {
      "cell_type": "code",
      "source": [
        "# save to disk\n",
        "#db = Chroma.from_documents(texts, embeddings,\n",
        "#                           persist_directory=path_chroma)"
      ],
      "metadata": {
        "id": "KJkUH2pq8uXc"
      },
      "execution_count": null,
      "outputs": []
    },
    {
      "cell_type": "code",
      "source": [
        "# load from disk\n",
        "db = Chroma(persist_directory=path_chroma, embedding_function=embeddings)"
      ],
      "metadata": {
        "id": "pelYy8PIBlKp"
      },
      "execution_count": null,
      "outputs": []
    },
    {
      "cell_type": "code",
      "source": [
        "# test\n",
        "query = 'Problems with AI?'"
      ],
      "metadata": {
        "id": "hJDju_B7rUca"
      },
      "execution_count": null,
      "outputs": []
    },
    {
      "cell_type": "code",
      "source": [
        "db.similarity_search_with_score(query)"
      ],
      "metadata": {
        "id": "ZCTYiQ3aYx5L"
      },
      "execution_count": null,
      "outputs": []
    },
    {
      "cell_type": "markdown",
      "source": [
        "# LMM"
      ],
      "metadata": {
        "id": "ZS9x1AyiFcz4"
      }
    },
    {
      "cell_type": "code",
      "source": [
        "from langchain.llms import OpenAI\n",
        "from langchain.chat_models import ChatOpenAI\n",
        "from langchain.memory import ConversationBufferMemory\n",
        "\n",
        "from langchain import PromptTemplate, LLMChain\n",
        "from langchain.prompts import PromptTemplate\n",
        "from langchain.chains import RetrievalQA, RetrievalQAWithSourcesChain"
      ],
      "metadata": {
        "id": "dAtEU_ZC7kIw"
      },
      "execution_count": null,
      "outputs": []
    },
    {
      "cell_type": "code",
      "source": [
        "# Initialize ChatOpenAI with given parameters\n",
        "llm = ChatOpenAI(temperature=0, model_name='gpt-3.5-turbo') # or 'gpt-4'\n",
        "# memory = ConversationBufferMemory(memory_key=\"chat_history\", return_messages=True) # If you want a memory for chat"
      ],
      "metadata": {
        "id": "zYgOjlixtSbS"
      },
      "execution_count": null,
      "outputs": []
    },
    {
      "cell_type": "code",
      "source": [
        "prompt_template = \"\"\"You are provided with parts of speaches at the UK parliament related to the question. \\\n",
        "Use them to answer the question at the end. \\\n",
        "If you don't know the answer, just say that you don't know, don't try to make up an answer.\n",
        "\n",
        "{context}\n",
        "\n",
        "Question: {question}\n",
        "\"\"\"\n",
        "PROMPT = PromptTemplate(\n",
        "    template=prompt_template, input_variables=[\"context\", \"question\"]\n",
        ")"
      ],
      "metadata": {
        "id": "AFNzqjW5f0dS"
      },
      "execution_count": null,
      "outputs": []
    },
    {
      "cell_type": "code",
      "source": [
        "chain_type_kwargs = {\"prompt\": PROMPT}\n",
        "\n",
        "qa = RetrievalQA.from_chain_type(llm=llm,\n",
        "                                 chain_type=\"stuff\",\n",
        "                                 retriever=db.as_retriever(),\n",
        "                                 chain_type_kwargs=chain_type_kwargs\n",
        "                                 )"
      ],
      "metadata": {
        "id": "Umy_civHHntS"
      },
      "execution_count": null,
      "outputs": []
    },
    {
      "cell_type": "code",
      "source": [
        "query = \"'ethical concerns regarding the use of artificial intelligence (AI)?\"\n",
        "result = qa.run(query)\n"
      ],
      "metadata": {
        "id": "egI1Gy1tHt_l"
      },
      "execution_count": null,
      "outputs": []
    },
    {
      "cell_type": "code",
      "source": [
        "qa.run(query)"
      ],
      "metadata": {
        "id": "N9FICS1IyQz5"
      },
      "execution_count": null,
      "outputs": []
    },
    {
      "cell_type": "code",
      "source": [
        "db.similarity_search(query)"
      ],
      "metadata": {
        "id": "eoJ-03WgyQ6X"
      },
      "execution_count": null,
      "outputs": []
    },
    {
      "cell_type": "markdown",
      "source": [
        "# LMM Agents"
      ],
      "metadata": {
        "id": "rG6hhWIsypLc"
      }
    },
    {
      "cell_type": "code",
      "source": [
        "from glob import glob\n",
        "from langchain.agents import AgentType\n",
        "from langchain.schema.messages import SystemMessage\n",
        "from langchain.agents.openai_functions_agent.base import OpenAIFunctionsAgent\n",
        "from langchain.prompts import MessagesPlaceholder"
      ],
      "metadata": {
        "id": "QVDAlfliM8_l"
      },
      "execution_count": null,
      "outputs": []
    },
    {
      "cell_type": "code",
      "source": [
        "from langchain.agents.agent_toolkits import (\n",
        "    create_vectorstore_agent,\n",
        "    VectorStoreToolkit,\n",
        "    VectorStoreInfo,\n",
        ")"
      ],
      "metadata": {
        "id": "FzhF9h7BRN_N"
      },
      "execution_count": null,
      "outputs": []
    },
    {
      "cell_type": "code",
      "source": [
        "vectorstore_info = VectorStoreInfo(\n",
        "    name=\"Scotish Parlamentary Speeches\",\n",
        "    description=\"A vectorstore of all recent speeches in the Scottish Parlament related to AI, and relevant meta data\",\n",
        "    vectorstore=db,\n",
        ")\n",
        "toolkit = VectorStoreToolkit(vectorstore_info=vectorstore_info)"
      ],
      "metadata": {
        "id": "vISIxfeARbFu"
      },
      "execution_count": null,
      "outputs": []
    },
    {
      "cell_type": "code",
      "source": [
        "agent_executor = create_vectorstore_agent(llm=llm,\n",
        "                                          toolkit=toolkit,\n",
        "                                          prefix='You have access to a database on Scotish parliament speeches. \\\n",
        "                                          Use it to answer the question at the end. \\\n",
        "                                          If you do not know the answer, just say that you do not know, do not try to make up an answer.',\n",
        "                                          handle_parsing_errors='Check your output and make sure it conforms! Avoid output that cannot be parsed.',\n",
        "                                          #memory=memory,\n",
        "                                          verbose=True)"
      ],
      "metadata": {
        "id": "Qu041ssxWHVk"
      },
      "execution_count": null,
      "outputs": []
    },
    {
      "cell_type": "code",
      "source": [
        "promt_text = \"Summarize how speaker 'Emma Harper' and speaker 'Patrick Harvie' discuss artificial intelligence. In particular, contrast their opinions.\""
      ],
      "metadata": {
        "id": "gAwuWMOfR76x"
      },
      "execution_count": null,
      "outputs": []
    },
    {
      "cell_type": "code",
      "source": [
        "agent_executor.run(promt_text)"
      ],
      "metadata": {
        "id": "94pW8dKxaX1n"
      },
      "execution_count": null,
      "outputs": []
    },
    {
      "cell_type": "code",
      "source": [
        "db.similarity_search(\n",
        "    'artificial intelligence (AI)',\n",
        "    k=5,\n",
        "    filter={'speaker':'Patrick Harvie'}\n",
        ")"
      ],
      "metadata": {
        "id": "5c_9ZafUzQeQ"
      },
      "execution_count": null,
      "outputs": []
    },
    {
      "cell_type": "code",
      "source": [
        "db.similarity_search(\n",
        "    'artificial intelligence (AI)',\n",
        "    k=5,\n",
        "    filter={'speaker':'Emma Harper'}\n",
        ")"
      ],
      "metadata": {
        "id": "jzxi2G8t72uJ"
      },
      "execution_count": null,
      "outputs": []
    },
    {
      "cell_type": "markdown",
      "source": [
        "# Other application: Arxiv summaries\n",
        "\n",
        "To BE continued..."
      ],
      "metadata": {
        "id": "17wD8pdLaqG6"
      }
    },
    {
      "cell_type": "code",
      "source": [
        "!pip install arxiv\n",
        "!pip install pymupdf"
      ],
      "metadata": {
        "id": "woQMHdyTbJpl"
      },
      "execution_count": null,
      "outputs": []
    },
    {
      "cell_type": "code",
      "source": [
        "from langchain.document_loaders import ArxivLoader"
      ],
      "metadata": {
        "id": "7hb6GE72cXOY"
      },
      "execution_count": null,
      "outputs": []
    },
    {
      "cell_type": "code",
      "source": [
        "docs = ArxivLoader(query=\"2303.10130\").load()\n",
        "len(docs)"
      ],
      "metadata": {
        "id": "iWNRL0k7bKjc"
      },
      "execution_count": null,
      "outputs": []
    },
    {
      "cell_type": "code",
      "source": [
        "docs[0].metadata  # meta-information of the Document"
      ],
      "metadata": {
        "id": "o5wWNvmrcd4f"
      },
      "execution_count": null,
      "outputs": []
    },
    {
      "cell_type": "code",
      "source": [
        "docs[0].page_content[0:]  # all pages of the Document content"
      ],
      "metadata": {
        "id": "kaPVrKmwceSm"
      },
      "execution_count": null,
      "outputs": []
    }
  ]
}